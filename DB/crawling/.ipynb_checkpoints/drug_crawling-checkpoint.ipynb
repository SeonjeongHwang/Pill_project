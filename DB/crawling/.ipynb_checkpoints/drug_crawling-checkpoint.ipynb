{
 "cells": [
  {
   "cell_type": "code",
   "execution_count": 79,
   "metadata": {},
   "outputs": [],
   "source": [
    "from selenium import webdriver\n",
    "import pandas as pd\n",
    "from bs4 import BeautifulSoup\n",
    "from selenium.webdriver.common.by import By\n",
    "import time\n",
    "import re\n",
    "\n",
    "path = 'C:/Users/sunny/test/geckodriver.exe'\n",
    "driver = webdriver.Firefox(executable_path=path)\n",
    "driver.get('http://www.health.kr/searchDrug/search_detail.asp')\n",
    "\n",
    "driver.find_element_by_id(\"anchor_form_info\").click()\n",
    "driver.find_element_by_id(\"form_info_TB\").click()\n",
    "driver.find_element_by_id(\"btn_detail_search\").click()\n",
    "time.sleep(10)\n",
    "driver.find_element_by_id(\"anchor_proy_more\").click()\n",
    "time.sleep(50)\n",
    "###100줄 보는 코드\n",
    "driver.find_element_by_xpath('//*[@id=\"div_lines\"]/span').click()\n",
    "time.sleep(5)\n",
    "driver.find_element_by_id('line_li_100').click()"
   ]
  },
  {
   "cell_type": "code",
   "execution_count": 80,
   "metadata": {
    "scrolled": true
   },
   "outputs": [
    {
     "name": "stdout",
     "output_type": "stream",
     "text": [
      "page 1 done.\n",
      "page 2 done.\n",
      "page 3 done.\n",
      "page 4 done.\n",
      "page 5 done.\n",
      "page 6 done.\n",
      "page 7 done.\n",
      "page 8 done.\n",
      "page 9 done.\n"
     ]
    },
    {
     "ename": "KeyboardInterrupt",
     "evalue": "",
     "output_type": "error",
     "traceback": [
      "\u001b[1;31m---------------------------------------------------------------------------\u001b[0m",
      "\u001b[1;31mKeyboardInterrupt\u001b[0m                         Traceback (most recent call last)",
      "\u001b[1;32m<ipython-input-80-10a763d61b55>\u001b[0m in \u001b[0;36m<module>\u001b[1;34m\u001b[0m\n\u001b[0;32m      9\u001b[0m         \u001b[1;32mif\u001b[0m \u001b[0msleep\u001b[0m \u001b[1;33m>\u001b[0m \u001b[1;36m120\u001b[0m\u001b[1;33m:\u001b[0m\u001b[1;33m\u001b[0m\u001b[1;33m\u001b[0m\u001b[0m\n\u001b[0;32m     10\u001b[0m             \u001b[1;32mbreak\u001b[0m\u001b[1;33m\u001b[0m\u001b[1;33m\u001b[0m\u001b[0m\n\u001b[1;32m---> 11\u001b[1;33m         \u001b[0mtime\u001b[0m\u001b[1;33m.\u001b[0m\u001b[0msleep\u001b[0m\u001b[1;33m(\u001b[0m\u001b[1;36m1\u001b[0m\u001b[1;33m)\u001b[0m\u001b[1;33m\u001b[0m\u001b[1;33m\u001b[0m\u001b[0m\n\u001b[0m\u001b[0;32m     12\u001b[0m         \u001b[0msleep\u001b[0m \u001b[1;33m+=\u001b[0m \u001b[1;36m1\u001b[0m\u001b[1;33m\u001b[0m\u001b[1;33m\u001b[0m\u001b[0m\n\u001b[0;32m     13\u001b[0m         \u001b[0mhtml\u001b[0m\u001b[1;33m=\u001b[0m\u001b[0mdriver\u001b[0m\u001b[1;33m.\u001b[0m\u001b[0mpage_source\u001b[0m\u001b[1;33m\u001b[0m\u001b[1;33m\u001b[0m\u001b[0m\n",
      "\u001b[1;31mKeyboardInterrupt\u001b[0m: "
     ]
    }
   ],
   "source": [
    "img_re = re.compile('src=\\\"[^\"]+\\\"')\n",
    "\n",
    "pills = []\n",
    "prev_page = '0'\n",
    "while True:\n",
    "    html=driver.page_source\n",
    "    soup = BeautifulSoup(html, 'html.parser')\n",
    "    current_page = soup.find(\"a\", {\"class\":\"current\", \"target\":\"_self\"}).text\n",
    "    \n",
    "    ###page 완전히 넘겨질 때까지 대기\n",
    "    sleep = 0\n",
    "    while prev_page == current_page:\n",
    "        if sleep > 200:\n",
    "            break\n",
    "        time.sleep(2)\n",
    "        sleep += 1\n",
    "        html=driver.page_source\n",
    "        soup = BeautifulSoup(html, 'html.parser')\n",
    "        current_page = soup.find(\"a\", {\"class\":\"current\", \"target\":\"_self\"}).text\n",
    "    if sleep > 200: break\n",
    "        \n",
    "    ###pills에 알약별 이미지    \n",
    "    table = soup.find('table', {'class':'tab3_cont list_basic bt0'})\n",
    "    \n",
    "    for tr in table.find_all('tr'):\n",
    "        ele = list(tr.find_all('td'))\n",
    "        if len(ele) > 0:\n",
    "            img = img_re.findall(str(ele[0]))[0][5:-1]\n",
    "            name = ele[1].text\n",
    "            component = ele[2].text\n",
    "            effect = ele[3].text\n",
    "            company = ele[4].text\n",
    "            \n",
    "            pills.append([img, name, component, effect, company])\n",
    "    \n",
    "    ####################식별 마크 정보 추가####################\n",
    "    # 아직 에러 남 : for문 안쓰고 사진 하나씩은 뜨는데, for 문 안에서 다음 사진으로 넘어갈 때 에러 발생\n",
    "    for i in range(1,len(table.find_all('tr'))):\n",
    "        if pills[i-1][0].startswith(\"/images\"):\n",
    "            continue\n",
    "        driver.find_element_by_xpath('//*[@id=\"tbl_pro\"]/tbody/tr['+str(i+1)+']/td[1]').click()\n",
    "        time.sleep(5)\n",
    "        front = driver.find_element_by_id(\"idfy_front\").text\n",
    "        back = driver.find_element_by_id(\"idfy_back\").text\n",
    "        driver.find_element_by_xpath('//*[@id=\"pop_more\"]/a[1]').click()\n",
    "        time.sleep(5)\n",
    "        pills[i-1].append(front)\n",
    "        pills[i-1].append(back)\n",
    "       \n",
    "    print(\"page {} done.\".format(current_page))\n",
    "    prev_page = current_page\n",
    "    driver.find_element_by_class_name(\"right.ico\").click()"
   ]
  }
 ],
 "metadata": {
  "kernelspec": {
   "display_name": "Python 3",
   "language": "python",
   "name": "python3"
  },
  "language_info": {
   "codemirror_mode": {
    "name": "ipython",
    "version": 3
   },
   "file_extension": ".py",
   "mimetype": "text/x-python",
   "name": "python",
   "nbconvert_exporter": "python",
   "pygments_lexer": "ipython3",
   "version": "3.6.10"
  }
 },
 "nbformat": 4,
 "nbformat_minor": 4
}
